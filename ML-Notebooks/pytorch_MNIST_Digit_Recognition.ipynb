{
  "nbformat": 4,
  "nbformat_minor": 0,
  "metadata": {
    "colab": {
      "name": "pytorch_MNIST_Digit_Recognition.ipynb",
      "provenance": [],
      "collapsed_sections": [],
      "authorship_tag": "ABX9TyOdFf+2K+lqEXCvfIKcS3E7",
      "include_colab_link": true
    },
    "kernelspec": {
      "name": "python3",
      "display_name": "Python 3"
    }
  },
  "cells": [
    {
      "cell_type": "markdown",
      "metadata": {
        "id": "view-in-github",
        "colab_type": "text"
      },
      "source": [
        "<a href=\"https://colab.research.google.com/github/astasinos/ML-Notebooks/blob/main/pytorch_MNIST_Digit_Recognition.ipynb\" target=\"_parent\"><img src=\"https://colab.research.google.com/assets/colab-badge.svg\" alt=\"Open In Colab\"/></a>"
      ]
    },
    {
      "cell_type": "code",
      "metadata": {
        "id": "cKE9eCVBIpnb"
      },
      "source": [
        "\"\"\"\r\n",
        "Author: Alkis Stasinos 2020\r\n",
        "MNIST Digit Image Classifier\r\n",
        "\r\n",
        "Based on : https://pythonprogramming.net/training-deep-learning-neural-network-pytorch/\r\n",
        "\r\n",
        "\"\"\"\r\n",
        "\r\n",
        "import torch\r\n",
        "import torchvision \r\n",
        "import matplotlib.pyplot as plt\r\n",
        "import torch.nn as nn\r\n",
        "import torch.nn.functional as F\r\n",
        "import torch.optim as optim\r\n"
      ],
      "execution_count": null,
      "outputs": []
    },
    {
      "cell_type": "code",
      "metadata": {
        "id": "GCbfoGIfLspV"
      },
      "source": [
        "train = torchvision.datasets.MNIST(\"\", train = True, download = True, transform = torchvision.transforms.Compose([torchvision.transforms.ToTensor()]))\r\n",
        "test = torchvision.datasets.MNIST(\"\", train = False, download = True, transform = torchvision.transforms.Compose([torchvision.transforms.ToTensor()]))\r\n",
        "loss_function = nn.CrossEntropyLoss()\r\n",
        "optimizer = optim.Adam(net.parameters(), lr=0.001)"
      ],
      "execution_count": null,
      "outputs": []
    },
    {
      "cell_type": "code",
      "metadata": {
        "id": "fh7qiEXGMpcL"
      },
      "source": [
        "trainset = torch.utils.data.DataLoader(train, batch_size=10, shuffle=True)\r\n",
        "testset = torch.utils.data.DataLoader(test, batch_size=10, shuffle=False)"
      ],
      "execution_count": null,
      "outputs": []
    },
    {
      "cell_type": "code",
      "metadata": {
        "id": "k3iSGpHoNVsa"
      },
      "source": [
        "total = 0\r\n",
        "count_dict = {0:0, 1:0, 2:0, 3:0, 4:0, 5:0, 6:0, 7:0, 8:0, 9:0}\r\n",
        "\r\n",
        "for data in trainset:\r\n",
        "  X, Y = data\r\n",
        "  for num in Y:\r\n",
        "    count_dict[int(num)] += 1\r\n",
        "    total += 1\r\n",
        "\r\n",
        "print(\"Total numbers {total}\\n\".format(total = total))\r\n",
        "for i in range(10):\r\n",
        "  print(\"Total {num}s : {count}, percentage = {percent:.2f} %\".format(num=i, count=count_dict[i], percent = 100 * count_dict[i]/float(total)))\r\n"
      ],
      "execution_count": null,
      "outputs": []
    },
    {
      "cell_type": "code",
      "metadata": {
        "id": "WZ0Zrl0SUuCP"
      },
      "source": [
        "class Net(nn.Module):\r\n",
        "    def __init__(self):\r\n",
        "        super().__init__()\r\n",
        "        self.fc1 = nn.Linear(28*28, 64)\r\n",
        "        self.fc2 = nn.Linear(64, 64)\r\n",
        "        self.fc3 = nn.Linear(64, 64)\r\n",
        "        self.fc4 = nn.Linear(64, 10)\r\n",
        "\r\n",
        "    def forward(self, x):\r\n",
        "        x = F.relu(self.fc1(x))\r\n",
        "        x = F.relu(self.fc2(x))\r\n",
        "        x = F.relu(self.fc3(x))\r\n",
        "        x = self.fc4(x)\r\n",
        "        return F.log_softmax(x, dim=1)\r\n",
        "\r\n",
        "net = Net()\r\n"
      ],
      "execution_count": null,
      "outputs": []
    },
    {
      "cell_type": "code",
      "metadata": {
        "colab": {
          "base_uri": "https://localhost:8080/"
        },
        "id": "BP4aE28DUwrQ",
        "outputId": "792a51f6-8bf7-455e-a6e0-4fa98217c298"
      },
      "source": [
        "random = torch.randn((28,28))\r\n",
        "random = random.view(-1,28*28)\r\n",
        "out = net(random)\r\n",
        "print(out)"
      ],
      "execution_count": null,
      "outputs": [
        {
          "output_type": "stream",
          "text": [
            "tensor([[-2.3367, -2.1743, -2.2808, -2.3097, -2.3294, -2.3691, -2.4323, -2.2267,\n",
            "         -2.2839, -2.3061]], grad_fn=<LogSoftmaxBackward>)\n"
          ],
          "name": "stdout"
        }
      ]
    },
    {
      "cell_type": "code",
      "metadata": {
        "colab": {
          "base_uri": "https://localhost:8080/"
        },
        "id": "cPZsm8FlXKmU",
        "outputId": "2a46d210-83c8-439f-b14c-d1359f6ece7f"
      },
      "source": [
        "def acc(net, train = False):\r\n",
        "  correct = 0\r\n",
        "  total = 0\r\n",
        "  dataset = testset\r\n",
        "  if (train):\r\n",
        "    dataset = trainset\r\n",
        "\r\n",
        "  with torch.no_grad():\r\n",
        "      for data in testset:\r\n",
        "          X, y = data\r\n",
        "          output = net(X.view(-1,784))\r\n",
        "          for idx, i in enumerate(output):\r\n",
        "              if torch.argmax(i) == y[idx]:\r\n",
        "                  correct += 1\r\n",
        "              total += 1\r\n",
        "\r\n",
        "  return round(correct/total, 3)\r\n",
        "\r\n",
        "testacc = []\r\n",
        "trainacc = []\r\n",
        "\r\n",
        "for epoch in range(3): \r\n",
        "    for data in trainset: \r\n",
        "        X, y = data  \r\n",
        "        net.zero_grad()  \r\n",
        "        output = net(X.view(-1,784))  \r\n",
        "        loss = F.nll_loss(output, y)  \r\n",
        "        loss.backward()  \r\n",
        "        optimizer.step()  \r\n",
        "    \r\n",
        "    testacc.append(acc(net, train = False))\r\n",
        "    trainacc.append(acc(net, train = True))\r\n",
        "    \r\n",
        "    print(loss)  \r\n",
        "    "
      ],
      "execution_count": null,
      "outputs": [
        {
          "output_type": "stream",
          "text": [
            "tensor(9.5367e-08, grad_fn=<NllLossBackward>)\n",
            "tensor(5.5550e-06, grad_fn=<NllLossBackward>)\n",
            "tensor(5.4836e-07, grad_fn=<NllLossBackward>)\n",
            "[0.976, 0.974, 0.97]\n",
            "[0.976, 0.974, 0.97]\n"
          ],
          "name": "stdout"
        }
      ]
    },
    {
      "cell_type": "code",
      "metadata": {
        "colab": {
          "base_uri": "https://localhost:8080/",
          "height": 282
        },
        "id": "AMU133alYITv",
        "outputId": "5c96b7ed-93f1-4cbe-e87f-4ad19785bc72"
      },
      "source": [
        "plt.imshow(X[1].view(28,28))\r\n",
        "print(int(torch.argmax(net(X[1].view(-1,784)))))\r\n",
        "  "
      ],
      "execution_count": null,
      "outputs": [
        {
          "output_type": "stream",
          "text": [
            "3\n"
          ],
          "name": "stdout"
        },
        {
          "output_type": "display_data",
          "data": {
            "image/png": "[encoded data removed]",
            "text/plain": [
              "<Figure size 432x288 with 1 Axes>"
            ]
          },
          "metadata": {
            "tags": [],
            "needs_background": "light"
          }
        }
      ]
    }
  ]
}